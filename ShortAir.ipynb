{
  "nbformat": 4,
  "nbformat_minor": 0,
  "metadata": {
    "colab": {
      "provenance": [],
      "gpuType": "T4",
      "authorship_tag": "ABX9TyOejTEb+Y4V/NoaOvzqJ4qd",
      "include_colab_link": true
    },
    "kernelspec": {
      "name": "python3",
      "display_name": "Python 3"
    },
    "language_info": {
      "name": "python"
    },
    "accelerator": "GPU"
  },
  "cells": [
    {
      "cell_type": "markdown",
      "metadata": {
        "id": "view-in-github",
        "colab_type": "text"
      },
      "source": [
        "<a href=\"https://colab.research.google.com/github/komoriyuta/OpenHackU_ShortAir_ML/blob/main/ShortAir.ipynb\" target=\"_parent\"><img src=\"https://colab.research.google.com/assets/colab-badge.svg\" alt=\"Open In Colab\"/></a>"
      ]
    },
    {
      "cell_type": "code",
      "execution_count": null,
      "metadata": {
        "colab": {
          "base_uri": "https://localhost:8080/"
        },
        "id": "Y4VGRoMTm_sy",
        "outputId": "125135b3-20f0-4b2c-df6e-bf590a6c03e0"
      },
      "outputs": [
        {
          "output_type": "stream",
          "name": "stdout",
          "text": [
            "\u001b[?25l     \u001b[90m━━━━━━━━━━━━━━━━━━━━━━━━━━━━━━━━━━━━━━━━\u001b[0m \u001b[32m0.0/242.5 kB\u001b[0m \u001b[31m?\u001b[0m eta \u001b[36m-:--:--\u001b[0m\r\u001b[2K     \u001b[91m━━━━━\u001b[0m\u001b[90m╺\u001b[0m\u001b[90m━━━━━━━━━━━━━━━━━━━━━━━━━━━━━━━━━━\u001b[0m \u001b[32m30.7/242.5 kB\u001b[0m \u001b[31m1.2 MB/s\u001b[0m eta \u001b[36m0:00:01\u001b[0m\r\u001b[2K     \u001b[91m━━━━━━━━━━━━━━━━━━━━\u001b[0m\u001b[90m╺\u001b[0m\u001b[90m━━━━━━━━━━━━━━━━━━━\u001b[0m \u001b[32m122.9/242.5 kB\u001b[0m \u001b[31m1.7 MB/s\u001b[0m eta \u001b[36m0:00:01\u001b[0m\r\u001b[2K     \u001b[90m━━━━━━━━━━━━━━━━━━━━━━━━━━━━━━━━━━━━━━━━\u001b[0m \u001b[32m242.5/242.5 kB\u001b[0m \u001b[31m2.5 MB/s\u001b[0m eta \u001b[36m0:00:00\u001b[0m\n",
            "\u001b[?25hMounted at /content/drive\n"
          ]
        }
      ],
      "source": [
        "! pip install -q tensorflow\n",
        "! pip install -q tensorflow-model-optimization\n",
        "import numpy as np\n",
        "import matplotlib.pyplot as plt\n",
        "import pandas as pd\n",
        "import tensorflow as tf\n",
        "import tensorflow_model_optimization as tfmot\n",
        "import tf_keras as keras\n",
        "import os\n",
        "from google.colab import drive\n",
        "import glob\n",
        "import random\n",
        "import sklearn.metrics as sms\n",
        "import tempfile\n",
        "drive.mount('/content/drive')\n",
        "import sys\n",
        "sys.path.append('/content/drive/My Drive')\n",
        "from RAdam import RAdamOptimizer"
      ]
    },
    {
      "cell_type": "code",
      "source": [
        "LEN=27\n",
        "classes = ['circle', 'LtoR', 'up', 'RtoL', 'down']\n",
        "data_sets_list = []\n",
        "shortest_len = 10000\n",
        "for cls in classes:\n",
        "  file_list = glob.glob(os.path.join(\"/content/drive/MyDrive/hack_u/datasets2/\"+cls+\"/\",\"*.csv\"))\n",
        "  for file_path in file_list:\n",
        "    each_csv=pd.read_csv(file_path,skiprows=0,header=None)\n",
        "    if shortest_len>len(each_csv.index):\n",
        "      shortest_len=len(each_csv.index)\n",
        "    for i in range(len(each_csv.index)-LEN+1):\n",
        "      data_sets_list.append([classes.index(cls),each_csv.iloc[i:i+LEN,:].to_numpy()])\n",
        "  print(cls+\"done\")\n",
        "print(shortest_len)\n",
        "print(len(data_sets_list))\n",
        "random.shuffle(data_sets_list)"
      ],
      "metadata": {
        "colab": {
          "base_uri": "https://localhost:8080/"
        },
        "id": "g7-NdYUnXPqV",
        "outputId": "9e34abb4-4c67-4099-c93a-2494023d80fa"
      },
      "execution_count": null,
      "outputs": [
        {
          "output_type": "stream",
          "name": "stdout",
          "text": [
            "circledone\n",
            "LtoRdone\n",
            "updone\n",
            "RtoLdone\n",
            "downdone\n",
            "30\n",
            "4000\n"
          ]
        }
      ]
    },
    {
      "cell_type": "code",
      "source": [
        "y_train ,x_train= np.array([x[0] for x in data_sets_list[:int(len(data_sets_list)*0.8)]]) ,np.array([x[1] for x in data_sets_list[:int(len(data_sets_list)*0.8)]])\n",
        "y_test ,x_test= np.array([x[0] for x in data_sets_list[int(len(data_sets_list)*0.8):]]) ,np.array([x[1] for x in data_sets_list[int(len(data_sets_list)*0.8):]])\n",
        "\n",
        "x_train, x_test = (x_train) , (x_test)"
      ],
      "metadata": {
        "id": "0NQmsM3iiokt"
      },
      "execution_count": null,
      "outputs": []
    },
    {
      "cell_type": "code",
      "source": [
        "def setup_model():\n",
        "  model = tf.keras.Sequential([\n",
        "    tf.keras.layers.Flatten(input_shape=[LEN,5],name=\"input\"),\n",
        "    tf.keras.layers.Dropout(0.05),\n",
        "    tf.keras.layers.Dense(50, activation='relu'),\n",
        "    tf.keras.layers.Dropout(0.1),\n",
        "    tf.keras.layers.Dense(50, activation='relu'),\n",
        "    tf.keras.layers.Dropout(0.1),\n",
        "    tf.keras.layers.Dense(len(classes))\n",
        "  ])\n",
        "\n",
        "  return model\n",
        "#setup_model()"
      ],
      "metadata": {
        "id": "UvXElZtHAUoY"
      },
      "execution_count": null,
      "outputs": []
    },
    {
      "cell_type": "code",
      "source": [
        "train_op = RAdamOptimizer(learning_rate=0.001, beta1=0.9, beta2=0.999, weight_decay=0.0)\n",
        "loss_fn = tf.keras.losses.SparseCategoricalCrossentropy(from_logits=True)"
      ],
      "metadata": {
        "id": "5HyCyEmKD2uU"
      },
      "execution_count": null,
      "outputs": []
    },
    {
      "cell_type": "code",
      "source": [
        "loss_fn = tf.keras.losses.SparseCategoricalCrossentropy(from_logits=True)\n",
        "def training_weights():\n",
        "  model = setup_model()\n",
        "  model.compile(optimizer=train_op,\n",
        "                loss=loss_fn,\n",
        "                metrics=['accuracy'])\n",
        "  model.fit(x_train, y_train, epochs=64,batch_size=10,validation_split=0.1)\n",
        "  model.evaluate(x_test,  y_test, verbose=2)\n",
        "  _, pretrained_weights = tempfile.mkstemp('.tf')\n",
        "\n",
        "  model.save_weights(pretrained_weights)\n",
        "\n",
        "  return pretrained_weights\n",
        "def setup_pretrained_model(f32weights):\n",
        "  model = setup_model()\n",
        "  model.load_weights(f32weights)\n",
        "  return model\n",
        "\n",
        "f32weights = training_weights()"
      ],
      "metadata": {
        "colab": {
          "base_uri": "https://localhost:8080/"
        },
        "id": "Xf4C7DZvD3n-",
        "outputId": "31bb3b28-88d9-471d-f83e-2999c64b65d4"
      },
      "execution_count": null,
      "outputs": [
        {
          "output_type": "stream",
          "name": "stdout",
          "text": [
            "Epoch 1/64\n",
            "288/288 [==============================] - 33s 7ms/step - loss: 11.1312 - accuracy: 0.3847 - val_loss: 4.4749 - val_accuracy: 0.5688\n",
            "Epoch 2/64\n",
            "288/288 [==============================] - 1s 5ms/step - loss: 4.6578 - accuracy: 0.5427 - val_loss: 2.4768 - val_accuracy: 0.6656\n",
            "Epoch 3/64\n",
            "288/288 [==============================] - 1s 5ms/step - loss: 2.7694 - accuracy: 0.6128 - val_loss: 1.5708 - val_accuracy: 0.7312\n",
            "Epoch 4/64\n",
            "288/288 [==============================] - 1s 5ms/step - loss: 1.8150 - accuracy: 0.6632 - val_loss: 1.1761 - val_accuracy: 0.7281\n",
            "Epoch 5/64\n",
            "288/288 [==============================] - 1s 5ms/step - loss: 1.2830 - accuracy: 0.6931 - val_loss: 0.9804 - val_accuracy: 0.7500\n",
            "Epoch 6/64\n",
            "288/288 [==============================] - 1s 5ms/step - loss: 1.0045 - accuracy: 0.7222 - val_loss: 0.7819 - val_accuracy: 0.7812\n",
            "Epoch 7/64\n",
            "288/288 [==============================] - 2s 7ms/step - loss: 0.8071 - accuracy: 0.7490 - val_loss: 0.6476 - val_accuracy: 0.7937\n",
            "Epoch 8/64\n",
            "288/288 [==============================] - 2s 7ms/step - loss: 0.6663 - accuracy: 0.7764 - val_loss: 0.6113 - val_accuracy: 0.7969\n",
            "Epoch 9/64\n",
            "288/288 [==============================] - 1s 4ms/step - loss: 0.5654 - accuracy: 0.7951 - val_loss: 0.5569 - val_accuracy: 0.8313\n",
            "Epoch 10/64\n",
            "288/288 [==============================] - 1s 4ms/step - loss: 0.4663 - accuracy: 0.8253 - val_loss: 0.5124 - val_accuracy: 0.8531\n",
            "Epoch 11/64\n",
            "288/288 [==============================] - 1s 4ms/step - loss: 0.4757 - accuracy: 0.8229 - val_loss: 0.4569 - val_accuracy: 0.8438\n",
            "Epoch 12/64\n",
            "288/288 [==============================] - 1s 5ms/step - loss: 0.4075 - accuracy: 0.8417 - val_loss: 0.4205 - val_accuracy: 0.8438\n",
            "Epoch 13/64\n",
            "288/288 [==============================] - 1s 5ms/step - loss: 0.3521 - accuracy: 0.8587 - val_loss: 0.4216 - val_accuracy: 0.8687\n",
            "Epoch 14/64\n",
            "288/288 [==============================] - 1s 5ms/step - loss: 0.3823 - accuracy: 0.8549 - val_loss: 0.3756 - val_accuracy: 0.8438\n",
            "Epoch 15/64\n",
            "288/288 [==============================] - 1s 5ms/step - loss: 0.3443 - accuracy: 0.8639 - val_loss: 0.3483 - val_accuracy: 0.8813\n",
            "Epoch 16/64\n",
            "288/288 [==============================] - 2s 7ms/step - loss: 0.3066 - accuracy: 0.8757 - val_loss: 0.3535 - val_accuracy: 0.8906\n",
            "Epoch 17/64\n",
            "288/288 [==============================] - 2s 7ms/step - loss: 0.3197 - accuracy: 0.8816 - val_loss: 0.3407 - val_accuracy: 0.8781\n",
            "Epoch 18/64\n",
            "288/288 [==============================] - 1s 5ms/step - loss: 0.2859 - accuracy: 0.8899 - val_loss: 0.3700 - val_accuracy: 0.8781\n",
            "Epoch 19/64\n",
            "288/288 [==============================] - 1s 5ms/step - loss: 0.2892 - accuracy: 0.8903 - val_loss: 0.3710 - val_accuracy: 0.8594\n",
            "Epoch 20/64\n",
            "288/288 [==============================] - 1s 5ms/step - loss: 0.2720 - accuracy: 0.8924 - val_loss: 0.3208 - val_accuracy: 0.9000\n",
            "Epoch 21/64\n",
            "288/288 [==============================] - 1s 5ms/step - loss: 0.2661 - accuracy: 0.8958 - val_loss: 0.3166 - val_accuracy: 0.9094\n",
            "Epoch 22/64\n",
            "288/288 [==============================] - 1s 5ms/step - loss: 0.2576 - accuracy: 0.9062 - val_loss: 0.3276 - val_accuracy: 0.8969\n",
            "Epoch 23/64\n",
            "288/288 [==============================] - 1s 5ms/step - loss: 0.2149 - accuracy: 0.9146 - val_loss: 0.3064 - val_accuracy: 0.9062\n",
            "Epoch 24/64\n",
            "288/288 [==============================] - 1s 5ms/step - loss: 0.2285 - accuracy: 0.9170 - val_loss: 0.2630 - val_accuracy: 0.9062\n",
            "Epoch 25/64\n",
            "288/288 [==============================] - 2s 7ms/step - loss: 0.2054 - accuracy: 0.9208 - val_loss: 0.2894 - val_accuracy: 0.8938\n",
            "Epoch 26/64\n",
            "288/288 [==============================] - 2s 7ms/step - loss: 0.2083 - accuracy: 0.9222 - val_loss: 0.2405 - val_accuracy: 0.9000\n",
            "Epoch 27/64\n",
            "288/288 [==============================] - 1s 5ms/step - loss: 0.2098 - accuracy: 0.9222 - val_loss: 0.2587 - val_accuracy: 0.9062\n",
            "Epoch 28/64\n",
            "288/288 [==============================] - 1s 5ms/step - loss: 0.1988 - accuracy: 0.9226 - val_loss: 0.2780 - val_accuracy: 0.9250\n",
            "Epoch 29/64\n",
            "288/288 [==============================] - 1s 5ms/step - loss: 0.2018 - accuracy: 0.9208 - val_loss: 0.2729 - val_accuracy: 0.9156\n",
            "Epoch 30/64\n",
            "288/288 [==============================] - 1s 5ms/step - loss: 0.1927 - accuracy: 0.9337 - val_loss: 0.2759 - val_accuracy: 0.8969\n",
            "Epoch 31/64\n",
            "288/288 [==============================] - 1s 5ms/step - loss: 0.1627 - accuracy: 0.9385 - val_loss: 0.2718 - val_accuracy: 0.9062\n",
            "Epoch 32/64\n",
            "288/288 [==============================] - 1s 5ms/step - loss: 0.1799 - accuracy: 0.9316 - val_loss: 0.2497 - val_accuracy: 0.9156\n",
            "Epoch 33/64\n",
            "288/288 [==============================] - 1s 5ms/step - loss: 0.1906 - accuracy: 0.9260 - val_loss: 0.2894 - val_accuracy: 0.9156\n",
            "Epoch 34/64\n",
            "288/288 [==============================] - 2s 7ms/step - loss: 0.1819 - accuracy: 0.9372 - val_loss: 0.2492 - val_accuracy: 0.9187\n",
            "Epoch 35/64\n",
            "288/288 [==============================] - 2s 6ms/step - loss: 0.1541 - accuracy: 0.9372 - val_loss: 0.2943 - val_accuracy: 0.9125\n",
            "Epoch 36/64\n",
            "288/288 [==============================] - 1s 5ms/step - loss: 0.1580 - accuracy: 0.9455 - val_loss: 0.2788 - val_accuracy: 0.9062\n",
            "Epoch 37/64\n",
            "288/288 [==============================] - 1s 4ms/step - loss: 0.1752 - accuracy: 0.9378 - val_loss: 0.2447 - val_accuracy: 0.9125\n",
            "Epoch 38/64\n",
            "288/288 [==============================] - 1s 4ms/step - loss: 0.1614 - accuracy: 0.9441 - val_loss: 0.2708 - val_accuracy: 0.9031\n",
            "Epoch 39/64\n",
            "288/288 [==============================] - 1s 4ms/step - loss: 0.1737 - accuracy: 0.9378 - val_loss: 0.3135 - val_accuracy: 0.9125\n",
            "Epoch 40/64\n",
            "288/288 [==============================] - 1s 4ms/step - loss: 0.1501 - accuracy: 0.9438 - val_loss: 0.3123 - val_accuracy: 0.9187\n",
            "Epoch 41/64\n",
            "288/288 [==============================] - 1s 4ms/step - loss: 0.1445 - accuracy: 0.9507 - val_loss: 0.2580 - val_accuracy: 0.9062\n",
            "Epoch 42/64\n",
            "288/288 [==============================] - 1s 5ms/step - loss: 0.1402 - accuracy: 0.9493 - val_loss: 0.2518 - val_accuracy: 0.9187\n",
            "Epoch 43/64\n",
            "288/288 [==============================] - 2s 5ms/step - loss: 0.1395 - accuracy: 0.9490 - val_loss: 0.2935 - val_accuracy: 0.9125\n",
            "Epoch 44/64\n",
            "288/288 [==============================] - 2s 7ms/step - loss: 0.1399 - accuracy: 0.9455 - val_loss: 0.2644 - val_accuracy: 0.9062\n",
            "Epoch 45/64\n",
            "288/288 [==============================] - 2s 6ms/step - loss: 0.1387 - accuracy: 0.9476 - val_loss: 0.2708 - val_accuracy: 0.9031\n",
            "Epoch 46/64\n",
            "288/288 [==============================] - 1s 4ms/step - loss: 0.1226 - accuracy: 0.9559 - val_loss: 0.3270 - val_accuracy: 0.9031\n",
            "Epoch 47/64\n",
            "288/288 [==============================] - 1s 4ms/step - loss: 0.1411 - accuracy: 0.9538 - val_loss: 0.3016 - val_accuracy: 0.9062\n",
            "Epoch 48/64\n",
            "288/288 [==============================] - 1s 5ms/step - loss: 0.1422 - accuracy: 0.9542 - val_loss: 0.3478 - val_accuracy: 0.9062\n",
            "Epoch 49/64\n",
            "288/288 [==============================] - 1s 5ms/step - loss: 0.1462 - accuracy: 0.9542 - val_loss: 0.3621 - val_accuracy: 0.8938\n",
            "Epoch 50/64\n",
            "288/288 [==============================] - 2s 8ms/step - loss: 0.1178 - accuracy: 0.9622 - val_loss: 0.3415 - val_accuracy: 0.9094\n",
            "Epoch 51/64\n",
            "288/288 [==============================] - 3s 10ms/step - loss: 0.1153 - accuracy: 0.9556 - val_loss: 0.3679 - val_accuracy: 0.9031\n",
            "Epoch 52/64\n",
            "288/288 [==============================] - 2s 7ms/step - loss: 0.1441 - accuracy: 0.9483 - val_loss: 0.3281 - val_accuracy: 0.9031\n",
            "Epoch 53/64\n",
            "288/288 [==============================] - 2s 5ms/step - loss: 0.1259 - accuracy: 0.9531 - val_loss: 0.3336 - val_accuracy: 0.9094\n",
            "Epoch 54/64\n",
            "288/288 [==============================] - 1s 5ms/step - loss: 0.1169 - accuracy: 0.9590 - val_loss: 0.3562 - val_accuracy: 0.9125\n",
            "Epoch 55/64\n",
            "288/288 [==============================] - 1s 5ms/step - loss: 0.1071 - accuracy: 0.9660 - val_loss: 0.3644 - val_accuracy: 0.9062\n",
            "Epoch 56/64\n",
            "288/288 [==============================] - 1s 5ms/step - loss: 0.1119 - accuracy: 0.9625 - val_loss: 0.3339 - val_accuracy: 0.9156\n",
            "Epoch 57/64\n",
            "288/288 [==============================] - 1s 5ms/step - loss: 0.1060 - accuracy: 0.9635 - val_loss: 0.3609 - val_accuracy: 0.9062\n",
            "Epoch 58/64\n",
            "288/288 [==============================] - 1s 5ms/step - loss: 0.1190 - accuracy: 0.9639 - val_loss: 0.3551 - val_accuracy: 0.9156\n",
            "Epoch 59/64\n",
            "288/288 [==============================] - 1s 5ms/step - loss: 0.1148 - accuracy: 0.9625 - val_loss: 0.3192 - val_accuracy: 0.9031\n",
            "Epoch 60/64\n",
            "288/288 [==============================] - 2s 6ms/step - loss: 0.1218 - accuracy: 0.9576 - val_loss: 0.3364 - val_accuracy: 0.9250\n",
            "Epoch 61/64\n",
            "288/288 [==============================] - 2s 7ms/step - loss: 0.1224 - accuracy: 0.9615 - val_loss: 0.3036 - val_accuracy: 0.9281\n",
            "Epoch 62/64\n",
            "288/288 [==============================] - 2s 5ms/step - loss: 0.1038 - accuracy: 0.9660 - val_loss: 0.2515 - val_accuracy: 0.9312\n",
            "Epoch 63/64\n",
            "288/288 [==============================] - 1s 5ms/step - loss: 0.1251 - accuracy: 0.9580 - val_loss: 0.3364 - val_accuracy: 0.9250\n",
            "Epoch 64/64\n",
            "288/288 [==============================] - 1s 5ms/step - loss: 0.1234 - accuracy: 0.9587 - val_loss: 0.2765 - val_accuracy: 0.9281\n",
            "25/25 - 0s - loss: 0.2426 - accuracy: 0.9275 - 419ms/epoch - 17ms/step\n"
          ]
        }
      ]
    },
    {
      "cell_type": "code",
      "source": [
        "model=setup_pretrained_model(f32weights)\n",
        "probability_model = tf.keras.Sequential([\n",
        "  model,\n",
        "  tf.keras.layers.Softmax()\n",
        "])\n",
        "y_pred = [probability_model(a[None,:,:]) for a in x_test]\n",
        "plt.pcolor(sms.confusion_matrix(y_test,np.array(y_pred).squeeze().argmax(axis=1)))"
      ],
      "metadata": {
        "colab": {
          "base_uri": "https://localhost:8080/",
          "height": 453
        },
        "id": "4uZmbHakEBya",
        "outputId": "675109f4-6d1a-45d0-97a9-963744204e57"
      },
      "execution_count": null,
      "outputs": [
        {
          "output_type": "execute_result",
          "data": {
            "text/plain": [
              "<matplotlib.collections.PolyCollection at 0x7e38a844b220>"
            ]
          },
          "metadata": {},
          "execution_count": 8
        },
        {
          "output_type": "display_data",
          "data": {
            "text/plain": [
              "<Figure size 640x480 with 1 Axes>"
            ],
            "image/png": "[encoded data removed]"
          },
          "metadata": {}
        }
      ]
    },
    {
      "cell_type": "code",
      "source": [
        "X=90\n",
        "plt.bar(classes,probability_model(x_test[X][None,:,:]).numpy().squeeze())\n",
        "print(classes[y_test[X]])"
      ],
      "metadata": {
        "id": "n5iwrGcsAkEX",
        "colab": {
          "base_uri": "https://localhost:8080/",
          "height": 448
        },
        "outputId": "8f339138-f608-4b49-e025-976e4b3109a3"
      },
      "execution_count": null,
      "outputs": [
        {
          "output_type": "stream",
          "name": "stdout",
          "text": [
            "up\n"
          ]
        },
        {
          "output_type": "display_data",
          "data": {
            "text/plain": [
              "<Figure size 640x480 with 1 Axes>"
            ],
            "image/png": "[encoded data removed]"
          },
          "metadata": {}
        }
      ]
    },
    {
      "cell_type": "code",
      "source": [
        "x_train_quantized,x_test_quantized = (np.array([x[1] for x in data_sets_list[:int(len(data_sets_list)*0.8)]])).astype(np.uint8) ,(np.array([x[1] for x in data_sets_list[int(len(data_sets_list)*0.8):]])).astype(np.uint8)\n",
        "def representative_dataset():\n",
        "    for i in range(len(x_train)):\n",
        "        yield({'input_input':x_train[i].astype(np.float32)})"
      ],
      "metadata": {
        "id": "Bga5X1CRG9dR"
      },
      "execution_count": null,
      "outputs": []
    },
    {
      "cell_type": "code",
      "source": [
        "_quant_model=setup_model()\n",
        "_quant_model.load_weights(f32weights)\n",
        "converter_tflite=tf.lite.TFLiteConverter.from_keras_model(_quant_model)\n",
        "converter_tflite.optimizations = [tf.lite.Optimize.DEFAULT]\n",
        "\n",
        "converter_tflite.representative_dataset = representative_dataset\n",
        "converter_tflite.target_spec.supported_ops = [tf.lite.OpsSet.TFLITE_BUILTINS_INT8]\n",
        "converter_tflite.inference_input_type = tf.uint8  # or tf.uint8\n",
        "converter_tflite.inference_output_type = tf.int8  # or tf.uint8\n",
        "converter_tflite.experimental_new_converter = True\n",
        "tflite_quant_model = converter_tflite.convert()\n",
        "tf.lite.experimental.Analyzer.analyze(model_content=tflite_quant_model)"
      ],
      "metadata": {
        "colab": {
          "base_uri": "https://localhost:8080/"
        },
        "id": "hmDSHG1WE2TN",
        "outputId": "95781133-c1aa-418c-c824-d22a41a94732"
      },
      "execution_count": null,
      "outputs": [
        {
          "output_type": "stream",
          "name": "stderr",
          "text": [
            "WARNING:tensorflow:Detecting that an object or model or tf.train.Checkpoint is being deleted with unrestored values. See the following logs for the specific values in question. To silence these warnings, use `status.expect_partial()`. See https://www.tensorflow.org/api_docs/python/tf/train/Checkpoint#restorefor details about the status object returned by the restore function.\n",
            "WARNING:tensorflow:Value in checkpoint could not be found in the restored object: (root).optimizer.global_step\n",
            "WARNING:tensorflow:Value in checkpoint could not be found in the restored object: (root).optimizer.optimizer.beta1_power\n",
            "WARNING:tensorflow:Value in checkpoint could not be found in the restored object: (root).optimizer.optimizer.beta2_power\n",
            "WARNING:tensorflow:Value in checkpoint could not be found in the restored object: (root).optimizer.optimizer.step\n",
            "WARNING:tensorflow:Value in checkpoint could not be found in the restored object: (root).optimizer.optimizer's state 'm' for (root).layer_with_weights-0.kernel\n",
            "WARNING:tensorflow:Value in checkpoint could not be found in the restored object: (root).optimizer.optimizer's state 'm' for (root).layer_with_weights-0.bias\n",
            "WARNING:tensorflow:Value in checkpoint could not be found in the restored object: (root).optimizer.optimizer's state 'm' for (root).layer_with_weights-1.kernel\n",
            "WARNING:tensorflow:Value in checkpoint could not be found in the restored object: (root).optimizer.optimizer's state 'm' for (root).layer_with_weights-1.bias\n",
            "WARNING:tensorflow:Value in checkpoint could not be found in the restored object: (root).optimizer.optimizer's state 'm' for (root).layer_with_weights-2.kernel\n",
            "WARNING:tensorflow:Value in checkpoint could not be found in the restored object: (root).optimizer.optimizer's state 'm' for (root).layer_with_weights-2.bias\n",
            "WARNING:tensorflow:Value in checkpoint could not be found in the restored object: (root).optimizer.optimizer's state 'v' for (root).layer_with_weights-0.kernel\n",
            "WARNING:tensorflow:Value in checkpoint could not be found in the restored object: (root).optimizer.optimizer's state 'v' for (root).layer_with_weights-0.bias\n",
            "WARNING:tensorflow:Value in checkpoint could not be found in the restored object: (root).optimizer.optimizer's state 'v' for (root).layer_with_weights-1.kernel\n",
            "WARNING:tensorflow:Value in checkpoint could not be found in the restored object: (root).optimizer.optimizer's state 'v' for (root).layer_with_weights-1.bias\n",
            "WARNING:tensorflow:Value in checkpoint could not be found in the restored object: (root).optimizer.optimizer's state 'v' for (root).layer_with_weights-2.kernel\n",
            "WARNING:tensorflow:Value in checkpoint could not be found in the restored object: (root).optimizer.optimizer's state 'v' for (root).layer_with_weights-2.bias\n",
            "/usr/local/lib/python3.10/dist-packages/tensorflow/lite/python/convert.py:953: UserWarning: Statistics for quantized inputs were expected, but not specified; continuing anyway.\n",
            "  warnings.warn(\n"
          ]
        },
        {
          "output_type": "stream",
          "name": "stdout",
          "text": [
            "=== TFLite ModelAnalyzer ===\n",
            "\n",
            "Your TFLite model has '1' subgraph(s). In the subgraph description below,\n",
            "T# represents the Tensor numbers. For example, in Subgraph#0, the QUANTIZE op takes\n",
            "tensor #0 as input and produces tensor #8 as output.\n",
            "\n",
            "Subgraph#0 main(T#0) -> [T#12]\n",
            "  Op#0 QUANTIZE(T#0) -> [T#8]\n",
            "  Op#1 RESHAPE(T#8, T#1[-1, 135]) -> [T#9]\n",
            "  Op#2 FULLY_CONNECTED(T#9, T#7, T#6[-57, -30, -93, -62, -28, ...]) -> [T#10]\n",
            "  Op#3 FULLY_CONNECTED(T#10, T#5, T#4[-79, -5, -57, 32, -12, ...]) -> [T#11]\n",
            "  Op#4 FULLY_CONNECTED(T#11, T#3, T#2[-443, -163, 505, -24, 240]) -> [T#12]\n",
            "\n",
            "Tensors of Subgraph#0\n",
            "  T#0(serving_default_input_input:0) shape_signature:[-1, 27, 5], type:UINT8\n",
            "  T#1(sequential_4/input/Const) shape:[2], type:INT32 RO 8 bytes, buffer: 2, data:[-1, 135]\n",
            "  T#2(sequential_4/dense_11/BiasAdd/ReadVariableOp) shape:[5], type:INT32 RO 20 bytes, buffer: 3, data:[-443, -163, 505, -24, 240]\n",
            "  T#3(sequential_4/dense_11/MatMul) shape:[5, 50], type:INT8 RO 250 bytes, buffer: 4, data:[0, ., ., ., ., ...]\n",
            "  T#4(sequential_4/dense_10/BiasAdd/ReadVariableOp) shape:[50], type:INT32 RO 200 bytes, buffer: 5, data:[-79, -5, -57, 32, -12, ...]\n",
            "  T#5(sequential_4/dense_10/MatMul) shape:[50, 50], type:INT8 RO 2500 bytes, buffer: 6, data:[., ., ., ., ., ...]\n",
            "  T#6(sequential_4/dense_9/BiasAdd/ReadVariableOp) shape:[50], type:INT32 RO 200 bytes, buffer: 7, data:[-57, -30, -93, -62, -28, ...]\n",
            "  T#7(sequential_4/dense_9/MatMul) shape:[50, 135], type:INT8 RO 6750 bytes, buffer: 8, data:[., ., ., ., ., ...]\n",
            "  T#8(tfl.quantize) shape_signature:[-1, 27, 5], type:INT8\n",
            "  T#9(sequential_4/input/Reshape) shape_signature:[-1, 135], type:INT8\n",
            "  T#10(sequential_4/dense_9/MatMul;sequential_4/dense_9/Relu;sequential_4/dense_9/BiasAdd) shape_signature:[-1, 50], type:INT8\n",
            "  T#11(sequential_4/dense_10/MatMul;sequential_4/dense_10/Relu;sequential_4/dense_10/BiasAdd) shape_signature:[-1, 50], type:INT8\n",
            "  T#12(StatefulPartitionedCall:0) shape_signature:[-1, 5], type:INT8\n",
            "\n",
            "---------------------------------------------------------------\n",
            "Your TFLite model has '1' signature_def(s).\n",
            "\n",
            "Signature#0 key: 'serving_default'\n",
            "- Subgraph: Subgraph#0\n",
            "- Inputs: \n",
            "    'input_input' : T#0\n",
            "- Outputs: \n",
            "    'dense_11' : T#12\n",
            "\n",
            "---------------------------------------------------------------\n",
            "              Model size:      12728 bytes\n",
            "    Non-data buffer size:       2696 bytes (21.18 %)\n",
            "  Total data buffer size:      10032 bytes (78.82 %)\n",
            "    (Zero value buffers):          0 bytes (00.00 %)\n",
            "\n",
            "* Buffers of TFLite model are mostly used for constant tensors.\n",
            "  And zero value buffers are buffers filled with zeros.\n",
            "  Non-data buffers area are used to store operators, subgraphs and etc.\n",
            "  You can find more details from https://github.com/tensorflow/tensorflow/blob/master/tensorflow/lite/schema/schema.fbs\n",
            "\n"
          ]
        }
      ]
    },
    {
      "cell_type": "code",
      "source": [
        "interpreter = tf.lite.Interpreter(model_content=tflite_quant_model)\n",
        "interpreter.allocate_tensors()\n",
        "input_details = interpreter.get_input_details()\n",
        "output_details = interpreter.get_output_details()\n",
        "print(input_details)\n",
        "print(output_details)"
      ],
      "metadata": {
        "id": "y-ZvVbaAKmkG",
        "colab": {
          "base_uri": "https://localhost:8080/"
        },
        "outputId": "f467e20b-b28e-4d9c-9995-05c26784bf71"
      },
      "execution_count": null,
      "outputs": [
        {
          "output_type": "stream",
          "name": "stdout",
          "text": [
            "[{'name': 'serving_default_input_input:0', 'index': 0, 'shape': array([ 1, 27,  5], dtype=int32), 'shape_signature': array([-1, 27,  5], dtype=int32), 'dtype': <class 'numpy.uint8'>, 'quantization': (0.6705882549285889, 0), 'quantization_parameters': {'scales': array([0.67058825], dtype=float32), 'zero_points': array([0], dtype=int32), 'quantized_dimension': 0}, 'sparsity_parameters': {}}]\n",
            "[{'name': 'StatefulPartitionedCall:0', 'index': 12, 'shape': array([1, 5], dtype=int32), 'shape_signature': array([-1,  5], dtype=int32), 'dtype': <class 'numpy.int8'>, 'quantization': (0.5985912680625916, -60), 'quantization_parameters': {'scales': array([0.59859127], dtype=float32), 'zero_points': array([-60], dtype=int32), 'quantized_dimension': 0}, 'sparsity_parameters': {}}]\n"
          ]
        }
      ]
    },
    {
      "cell_type": "code",
      "source": [
        "input_details = interpreter.get_input_details()\n",
        "output_details = interpreter.get_output_details()\n",
        "X=14\n",
        "\n",
        "# 入力層のテンソルデータ構成の取得\n",
        "input_shape = input_details[0]['shape']\n",
        "print(input_shape,(x_test_quantized[1]).astype(np.int8).shape)\n",
        "# テンソルデータ構成から、ランダムな ndArrayを作成\n",
        "# np.arrayのcall時に、input_detailsのdtypeと整合性が取れるように型をセットしないと、set_tensor時にエラーが発生\n",
        "input_data = np.expand_dims((x_test_quantized[X]),0).astype(np.uint8)\n",
        "# indexにテンソルデータのポインタをセット\n",
        "interpreter.set_tensor(input_details[0]['index'], input_data)\n",
        "\n",
        "interpreter.invoke()\n",
        "# 推論結果は、output_detailsのindexに保存されている\n",
        "output_data = interpreter.get_tensor(output_details[0]['index'])\n",
        "print(y_test[X])\n",
        "print(output_data)"
      ],
      "metadata": {
        "colab": {
          "base_uri": "https://localhost:8080/"
        },
        "id": "_i9v3dSOLE5v",
        "outputId": "abb8c681-53fc-4c12-bdae-553b0c032839"
      },
      "execution_count": null,
      "outputs": [
        {
          "output_type": "stream",
          "name": "stdout",
          "text": [
            "[ 1 27  5] (27, 5)\n",
            "4\n",
            "[[-51 -57 -49 -57 -42]]\n"
          ]
        }
      ]
    },
    {
      "cell_type": "code",
      "source": [
        "y_pred_quantized = []\n",
        "for datas in x_test_quantized:\n",
        "  interpreter.set_tensor(input_details[0]['index'], np.expand_dims(datas,0).astype(np.uint8))\n",
        "  interpreter.invoke()\n",
        "  y_pred_quantized.append(interpreter.get_tensor(output_details[0]['index']).squeeze().argmax())\n",
        "plt.pcolor(sms.confusion_matrix(y_test,y_pred_quantized))\n",
        "print(sms.accuracy_score(y_test,y_pred_quantized))"
      ],
      "metadata": {
        "colab": {
          "base_uri": "https://localhost:8080/",
          "height": 453
        },
        "id": "mpr0E9T-hq4C",
        "outputId": "96cd9f76-27b4-4305-ebac-33552460e68d"
      },
      "execution_count": null,
      "outputs": [
        {
          "output_type": "stream",
          "name": "stdout",
          "text": [
            "0.9225\n"
          ]
        },
        {
          "output_type": "display_data",
          "data": {
            "text/plain": [
              "<Figure size 640x480 with 1 Axes>"
            ],
            "image/png": "[encoded data removed]"
          },
          "metadata": {}
        }
      ]
    },
    {
      "cell_type": "code",
      "source": [
        "print(x_test_quantized[X],y_train[5])"
      ],
      "metadata": {
        "colab": {
          "base_uri": "https://localhost:8080/"
        },
        "id": "EgsXknGVEbXA",
        "outputId": "5a6ea4df-286f-4044-a1ec-c364b85bef1b"
      },
      "execution_count": null,
      "outputs": [
        {
          "output_type": "stream",
          "name": "stdout",
          "text": [
            "[[  0 152 150   0   0]\n",
            " [  0 147 146   0   0]\n",
            " [  0 137 102   0   0]\n",
            " [  0 127 121   0   0]\n",
            " [ 12 118 116   0   0]\n",
            " [  0 103 108   0   0]\n",
            " [  0  90  94   0   0]\n",
            " [  0  55  91   0   0]\n",
            " [ 12   0  67   0   0]\n",
            " [  0   1  27   0   0]\n",
            " [  0   0   0   0  31]\n",
            " [  0   0   0   0   0]\n",
            " [ 12   0   0   0   0]\n",
            " [  0   0   0   0   0]\n",
            " [  0   0  58   0   0]\n",
            " [  0   4   0   0   4]\n",
            " [  0  52  15   0   0]\n",
            " [  0   0   0   0   0]\n",
            " [  0   0   0   0  30]\n",
            " [  0   0   0   0   0]\n",
            " [  0   0   0   0   0]\n",
            " [  0  25  28   0   0]\n",
            " [  0   0   0   0  39]\n",
            " [ 12   0   0   0  39]\n",
            " [  0   0   0   0   0]\n",
            " [  0  58   0   0   0]\n",
            " [  0   0   0   0  10]] 4\n"
          ]
        }
      ]
    },
    {
      "cell_type": "code",
      "source": [
        "open(\"/content/drive/MyDrive/hack_u/converted_model2.tflite\", \"wb\").write(tflite_quant_model)"
      ],
      "metadata": {
        "colab": {
          "base_uri": "https://localhost:8080/"
        },
        "id": "DUmvnrDdgPOz",
        "outputId": "78f4be3a-f338-4baa-dd24-d347e76665b3"
      },
      "execution_count": null,
      "outputs": [
        {
          "output_type": "execute_result",
          "data": {
            "text/plain": [
              "12728"
            ]
          },
          "metadata": {},
          "execution_count": 16
        }
      ]
    },
    {
      "cell_type": "code",
      "source": [
        "!xxd -i /content/drive/MyDrive/hack_u/converted_model2.tflite > /content/drive/MyDrive/hack_u/model_data.h"
      ],
      "metadata": {
        "id": "GH8XKN_Ugq34"
      },
      "execution_count": null,
      "outputs": []
    }
  ]
}